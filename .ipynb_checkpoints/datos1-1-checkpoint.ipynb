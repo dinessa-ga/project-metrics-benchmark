{
 "cells": [
  {
   "cell_type": "code",
   "execution_count": 4,
   "id": "82cd5b30-b1ad-45d3-8724-6caa3fb2ab88",
   "metadata": {
    "collapsed": true,
    "jupyter": {
     "outputs_hidden": true
    },
    "scrolled": true
   },
   "outputs": [
    {
     "name": "stdout",
     "output_type": "stream",
     "text": [
      "Collecting pandas\n",
      "  Using cached pandas-2.2.3-cp312-cp312-win_amd64.whl.metadata (19 kB)\n",
      "Collecting openpyxl\n",
      "  Using cached openpyxl-3.1.5-py2.py3-none-any.whl.metadata (2.5 kB)\n",
      "Requirement already satisfied: numpy>=1.26.0 in d:\\user\\documents\\1_carreras-con-impacto\\1_fase_desarrollo-proyecto\\project-metrics\\venv\\lib\\site-packages (from pandas) (2.2.4)\n",
      "Requirement already satisfied: python-dateutil>=2.8.2 in d:\\user\\documents\\1_carreras-con-impacto\\1_fase_desarrollo-proyecto\\project-metrics\\venv\\lib\\site-packages (from pandas) (2.9.0.post0)\n",
      "Collecting pytz>=2020.1 (from pandas)\n",
      "  Downloading pytz-2025.2-py2.py3-none-any.whl.metadata (22 kB)\n",
      "Collecting tzdata>=2022.7 (from pandas)\n",
      "  Downloading tzdata-2025.2-py2.py3-none-any.whl.metadata (1.4 kB)\n",
      "Collecting et-xmlfile (from openpyxl)\n",
      "  Using cached et_xmlfile-2.0.0-py3-none-any.whl.metadata (2.7 kB)\n",
      "Requirement already satisfied: six>=1.5 in d:\\user\\documents\\1_carreras-con-impacto\\1_fase_desarrollo-proyecto\\project-metrics\\venv\\lib\\site-packages (from python-dateutil>=2.8.2->pandas) (1.17.0)\n",
      "Using cached pandas-2.2.3-cp312-cp312-win_amd64.whl (11.5 MB)\n",
      "Using cached openpyxl-3.1.5-py2.py3-none-any.whl (250 kB)\n",
      "Downloading pytz-2025.2-py2.py3-none-any.whl (509 kB)\n",
      "Downloading tzdata-2025.2-py2.py3-none-any.whl (347 kB)\n",
      "Using cached et_xmlfile-2.0.0-py3-none-any.whl (18 kB)\n",
      "Installing collected packages: pytz, tzdata, et-xmlfile, pandas, openpyxl\n",
      "Successfully installed et-xmlfile-2.0.0 openpyxl-3.1.5 pandas-2.2.3 pytz-2025.2 tzdata-2025.2\n",
      "Note: you may need to restart the kernel to use updated packages.\n"
     ]
    }
   ],
   "source": [
    "pip install pandas openpyxl"
   ]
  },
  {
   "cell_type": "code",
   "execution_count": 2,
   "id": "b7d7edae-90a2-431a-affc-ecbb9bbec45b",
   "metadata": {
    "collapsed": true,
    "jupyter": {
     "outputs_hidden": true
    },
    "scrolled": true
   },
   "outputs": [
    {
     "name": "stdout",
     "output_type": "stream",
     "text": [
      "Collecting matplotlib\n",
      "  Downloading matplotlib-3.10.1-cp312-cp312-win_amd64.whl.metadata (11 kB)\n",
      "Collecting contourpy>=1.0.1 (from matplotlib)\n",
      "  Using cached contourpy-1.3.1-cp312-cp312-win_amd64.whl.metadata (5.4 kB)\n",
      "Collecting cycler>=0.10 (from matplotlib)\n",
      "  Using cached cycler-0.12.1-py3-none-any.whl.metadata (3.8 kB)\n",
      "Collecting fonttools>=4.22.0 (from matplotlib)\n",
      "  Downloading fonttools-4.56.0-cp312-cp312-win_amd64.whl.metadata (103 kB)\n",
      "Collecting kiwisolver>=1.3.1 (from matplotlib)\n",
      "  Using cached kiwisolver-1.4.8-cp312-cp312-win_amd64.whl.metadata (6.3 kB)\n",
      "Collecting numpy>=1.23 (from matplotlib)\n",
      "  Using cached numpy-2.2.4-cp312-cp312-win_amd64.whl.metadata (60 kB)\n",
      "Requirement already satisfied: packaging>=20.0 in d:\\user\\documents\\1_carreras-con-impacto\\1_fase_desarrollo-proyecto\\project-metrics\\venv\\lib\\site-packages (from matplotlib) (24.2)\n",
      "Collecting pillow>=8 (from matplotlib)\n",
      "  Using cached pillow-11.1.0-cp312-cp312-win_amd64.whl.metadata (9.3 kB)\n",
      "Collecting pyparsing>=2.3.1 (from matplotlib)\n",
      "  Downloading pyparsing-3.2.3-py3-none-any.whl.metadata (5.0 kB)\n",
      "Requirement already satisfied: python-dateutil>=2.7 in d:\\user\\documents\\1_carreras-con-impacto\\1_fase_desarrollo-proyecto\\project-metrics\\venv\\lib\\site-packages (from matplotlib) (2.9.0.post0)\n",
      "Requirement already satisfied: six>=1.5 in d:\\user\\documents\\1_carreras-con-impacto\\1_fase_desarrollo-proyecto\\project-metrics\\venv\\lib\\site-packages (from python-dateutil>=2.7->matplotlib) (1.17.0)\n",
      "Downloading matplotlib-3.10.1-cp312-cp312-win_amd64.whl (8.1 MB)\n",
      "   ---------------------------------------- 0.0/8.1 MB ? eta -:--:--\n",
      "   ------ --------------------------------- 1.3/8.1 MB 9.6 MB/s eta 0:00:01\n",
      "   ---------------- ----------------------- 3.4/8.1 MB 9.2 MB/s eta 0:00:01\n",
      "   --------------------------- ------------ 5.5/8.1 MB 9.6 MB/s eta 0:00:01\n",
      "   ----------------------------------- ---- 7.1/8.1 MB 8.9 MB/s eta 0:00:01\n",
      "   ---------------------------------------- 8.1/8.1 MB 8.5 MB/s eta 0:00:00\n",
      "Using cached contourpy-1.3.1-cp312-cp312-win_amd64.whl (220 kB)\n",
      "Using cached cycler-0.12.1-py3-none-any.whl (8.3 kB)\n",
      "Downloading fonttools-4.56.0-cp312-cp312-win_amd64.whl (2.2 MB)\n",
      "   ---------------------------------------- 0.0/2.2 MB ? eta -:--:--\n",
      "   ---------------------------- ----------- 1.6/2.2 MB 9.4 MB/s eta 0:00:01\n",
      "   ---------------------------------------- 2.2/2.2 MB 8.2 MB/s eta 0:00:00\n",
      "Using cached kiwisolver-1.4.8-cp312-cp312-win_amd64.whl (71 kB)\n",
      "Using cached numpy-2.2.4-cp312-cp312-win_amd64.whl (12.6 MB)\n",
      "Using cached pillow-11.1.0-cp312-cp312-win_amd64.whl (2.6 MB)\n",
      "Downloading pyparsing-3.2.3-py3-none-any.whl (111 kB)\n",
      "Installing collected packages: pyparsing, pillow, numpy, kiwisolver, fonttools, cycler, contourpy, matplotlib\n",
      "Successfully installed contourpy-1.3.1 cycler-0.12.1 fonttools-4.56.0 kiwisolver-1.4.8 matplotlib-3.10.1 numpy-2.2.4 pillow-11.1.0 pyparsing-3.2.3\n",
      "Note: you may need to restart the kernel to use updated packages.\n"
     ]
    }
   ],
   "source": [
    "pip install matplotlib"
   ]
  },
  {
   "cell_type": "code",
   "execution_count": 8,
   "id": "ab3116a6-c215-48a5-8125-54610aa84792",
   "metadata": {
    "collapsed": true,
    "jupyter": {
     "outputs_hidden": true
    }
   },
   "outputs": [
    {
     "name": "stdout",
     "output_type": "stream",
     "text": [
      "Collecting seaborn\n",
      "  Using cached seaborn-0.13.2-py3-none-any.whl.metadata (5.4 kB)\n",
      "Requirement already satisfied: numpy!=1.24.0,>=1.20 in d:\\user\\documents\\1_carreras-con-impacto\\1_fase_desarrollo-proyecto\\project-metrics\\venv\\lib\\site-packages (from seaborn) (2.2.4)\n",
      "Requirement already satisfied: pandas>=1.2 in d:\\user\\documents\\1_carreras-con-impacto\\1_fase_desarrollo-proyecto\\project-metrics\\venv\\lib\\site-packages (from seaborn) (2.2.3)\n",
      "Requirement already satisfied: matplotlib!=3.6.1,>=3.4 in d:\\user\\documents\\1_carreras-con-impacto\\1_fase_desarrollo-proyecto\\project-metrics\\venv\\lib\\site-packages (from seaborn) (3.10.1)\n",
      "Requirement already satisfied: contourpy>=1.0.1 in d:\\user\\documents\\1_carreras-con-impacto\\1_fase_desarrollo-proyecto\\project-metrics\\venv\\lib\\site-packages (from matplotlib!=3.6.1,>=3.4->seaborn) (1.3.1)\n",
      "Requirement already satisfied: cycler>=0.10 in d:\\user\\documents\\1_carreras-con-impacto\\1_fase_desarrollo-proyecto\\project-metrics\\venv\\lib\\site-packages (from matplotlib!=3.6.1,>=3.4->seaborn) (0.12.1)\n",
      "Requirement already satisfied: fonttools>=4.22.0 in d:\\user\\documents\\1_carreras-con-impacto\\1_fase_desarrollo-proyecto\\project-metrics\\venv\\lib\\site-packages (from matplotlib!=3.6.1,>=3.4->seaborn) (4.56.0)\n",
      "Requirement already satisfied: kiwisolver>=1.3.1 in d:\\user\\documents\\1_carreras-con-impacto\\1_fase_desarrollo-proyecto\\project-metrics\\venv\\lib\\site-packages (from matplotlib!=3.6.1,>=3.4->seaborn) (1.4.8)\n",
      "Requirement already satisfied: packaging>=20.0 in d:\\user\\documents\\1_carreras-con-impacto\\1_fase_desarrollo-proyecto\\project-metrics\\venv\\lib\\site-packages (from matplotlib!=3.6.1,>=3.4->seaborn) (24.2)\n",
      "Requirement already satisfied: pillow>=8 in d:\\user\\documents\\1_carreras-con-impacto\\1_fase_desarrollo-proyecto\\project-metrics\\venv\\lib\\site-packages (from matplotlib!=3.6.1,>=3.4->seaborn) (11.1.0)\n",
      "Requirement already satisfied: pyparsing>=2.3.1 in d:\\user\\documents\\1_carreras-con-impacto\\1_fase_desarrollo-proyecto\\project-metrics\\venv\\lib\\site-packages (from matplotlib!=3.6.1,>=3.4->seaborn) (3.2.3)\n",
      "Requirement already satisfied: python-dateutil>=2.7 in d:\\user\\documents\\1_carreras-con-impacto\\1_fase_desarrollo-proyecto\\project-metrics\\venv\\lib\\site-packages (from matplotlib!=3.6.1,>=3.4->seaborn) (2.9.0.post0)\n",
      "Requirement already satisfied: pytz>=2020.1 in d:\\user\\documents\\1_carreras-con-impacto\\1_fase_desarrollo-proyecto\\project-metrics\\venv\\lib\\site-packages (from pandas>=1.2->seaborn) (2025.2)\n",
      "Requirement already satisfied: tzdata>=2022.7 in d:\\user\\documents\\1_carreras-con-impacto\\1_fase_desarrollo-proyecto\\project-metrics\\venv\\lib\\site-packages (from pandas>=1.2->seaborn) (2025.2)\n",
      "Requirement already satisfied: six>=1.5 in d:\\user\\documents\\1_carreras-con-impacto\\1_fase_desarrollo-proyecto\\project-metrics\\venv\\lib\\site-packages (from python-dateutil>=2.7->matplotlib!=3.6.1,>=3.4->seaborn) (1.17.0)\n",
      "Using cached seaborn-0.13.2-py3-none-any.whl (294 kB)\n",
      "Installing collected packages: seaborn\n",
      "Successfully installed seaborn-0.13.2\n",
      "Note: you may need to restart the kernel to use updated packages.\n"
     ]
    }
   ],
   "source": [
    "pip install seaborn"
   ]
  },
  {
   "cell_type": "code",
   "execution_count": 13,
   "id": "e47824e4-25b7-4d02-837c-5d42b74b25f7",
   "metadata": {},
   "outputs": [
    {
     "name": "stdout",
     "output_type": "stream",
     "text": [
      "Requirement already satisfied: numpy in d:\\user\\documents\\1_carreras-con-impacto\\1_fase_desarrollo-proyecto\\project-metrics\\venv\\lib\\site-packages (2.2.4)\n",
      "Note: you may need to restart the kernel to use updated packages.\n"
     ]
    }
   ],
   "source": [
    "pip install numpy"
   ]
  },
  {
   "cell_type": "markdown",
   "id": "d8d80970-577f-4ae7-98f6-3ffe5d908c35",
   "metadata": {},
   "source": [
    "# Resultados experimentales sobre LLMs y la aplicabilidad en el patrón factory method"
   ]
  },
  {
   "cell_type": "markdown",
   "id": "8b00f919-de4d-46e0-b76a-0a4801d3646d",
   "metadata": {},
   "source": [
    "## Tabla de resultados experimentales de la tasa de éxito en el patrón factory method"
   ]
  },
  {
   "cell_type": "code",
   "execution_count": 1,
   "id": "ab30c5d5-312a-41f6-ae6d-6fbb35b95b8c",
   "metadata": {},
   "outputs": [
    {
     "name": "stdout",
     "output_type": "stream",
     "text": [
      "Tablas finales exportadas a: tablas_finales.xlsx\n"
     ]
    }
   ],
   "source": [
    "import pandas as pd\n",
    "import numpy as np\n",
    "\n",
    "# Ruta del archivo Excel\n",
    "file_path = \"resultados.xlsx\"\n",
    "\n",
    "# Función para procesar una tabla\n",
    "def procesar_tabla(df, n):\n",
    "    # Agrupar por Modelo y calcular estadísticas\n",
    "    grouped = df.groupby('LLMs').agg({\n",
    "        'Porcentaje de éxito': ['mean', 'std'],  # Promedio y desviación estándar del éxito\n",
    "        'Tiempo de respuesta': ['mean', 'std']  # Promedio y desviación estándar del tiempo\n",
    "    })\n",
    "    \n",
    "    # Aplanar las columnas después del agrupamiento\n",
    "    grouped.columns = [\n",
    "        'Promedio_exito', \n",
    "        'Desviacion_estandar_exito', \n",
    "        'Promedio_tiempo', \n",
    "        'Desviacion_estandar_tiempo'\n",
    "    ]\n",
    "    grouped = grouped.reset_index()\n",
    "    \n",
    "    # Calcular límites del intervalo de confianza\n",
    "    grouped['IC_Inferior'] = grouped['Promedio_exito'] - (1.96 * grouped['Desviacion_estandar_exito'] / np.sqrt(n))\n",
    "    grouped['IC_Superior'] = grouped['Promedio_exito'] + (1.96 * grouped['Desviacion_estandar_exito'] / np.sqrt(n))\n",
    "    \n",
    "    # Calcular barras de error\n",
    "    grouped['Error_bar'] = grouped['IC_Superior'] - grouped['Promedio_exito']\n",
    "    \n",
    "    # Crear la tabla final\n",
    "    tabla_final = grouped[[\n",
    "        'LLMs', \n",
    "        'Promedio_exito', \n",
    "        'Desviacion_estandar_exito', \n",
    "        'IC_Inferior', \n",
    "        'IC_Superior', \n",
    "        'Error_bar', \n",
    "        'Promedio_tiempo', \n",
    "        'Desviacion_estandar_tiempo'\n",
    "    ]]\n",
    "    \n",
    "    return tabla_final\n",
    "\n",
    "# Leer las tres hojas del archivo Excel\n",
    "factory_df = pd.read_excel(file_path, sheet_name=\"No_experimentos\")\n",
    "observer_df = pd.read_excel(file_path, sheet_name=\"No_experimentos-o\")\n",
    "strategy_df = pd.read_excel(file_path, sheet_name=\"No_experimentos-s\")\n",
    "\n",
    "# Tamaño de la muestra (ajustar según sea necesario)\n",
    "n = 24  # 8 experimentos * 3 intentos por modelo\n",
    "\n",
    "# Procesar cada tabla\n",
    "factory_final = procesar_tabla(factory_df, n)\n",
    "observer_final = procesar_tabla(observer_df, n)\n",
    "strategy_final = procesar_tabla(strategy_df, n)\n",
    "\n",
    "# Exportar las tablas finales a un archivo Excel con tres hojas\n",
    "output_file = \"tablas_finales.xlsx\"\n",
    "with pd.ExcelWriter(output_file) as writer:\n",
    "    factory_final.to_excel(writer, sheet_name=\"Factory\", index=False)\n",
    "    observer_final.to_excel(writer, sheet_name=\"Observer\", index=False)\n",
    "    strategy_final.to_excel(writer, sheet_name=\"Strategy\", index=False)\n",
    "\n",
    "print(\"Tablas finales exportadas a:\", output_file)"
   ]
  },
  {
   "cell_type": "code",
   "execution_count": null,
   "id": "16d60a20-b9f7-4e4f-a5d5-51a1bcbd0920",
   "metadata": {},
   "outputs": [],
   "source": []
  },
  {
   "cell_type": "markdown",
   "id": "97364fd0-5db3-448c-91cf-9af6d1f8cb58",
   "metadata": {},
   "source": [
    "### Gráfico sobre la tasa de éxito en el patrón factory method"
   ]
  },
  {
   "cell_type": "markdown",
   "id": "2aebcdf2-fde6-4971-8e07-9bd332615039",
   "metadata": {},
   "source": [
    "Probando usar gráfico y % , X para LLMs"
   ]
  },
  {
   "cell_type": "code",
   "execution_count": null,
   "id": "215ba1f5-4915-4117-b20a-81fe2e617e5a",
   "metadata": {},
   "outputs": [],
   "source": [
    "import matplotlib.pyplot as plt\n",
    "\n",
    "# Función para generar un gráfico de barras\n",
    "def generar_grafico(tabla, titulo, etiqueta_x, etiqueta_y, nombre_archivo):\n",
    "    # Configurar el gráfico\n",
    "    fig, ax = plt.subplots(figsize=(10, 6))\n",
    "    x = np.arange(len(tabla))  # Posiciones en el eje X\n",
    "    width = 0.35  # Ancho de las barras\n",
    "    \n",
    "    # Barras para el promedio de éxito\n",
    "    ax.bar(x, tabla['Promedio_exito'] * 100, width, yerr=tabla['Error_bar'] * 100, capsize=5, label='Promedio de Éxito (%)')\n",
    "    \n",
    "    # Configuración del eje Y (0% a 100%)\n",
    "    ax.set_ylim(0, 100)\n",
    "    ax.set_ylabel(etiqueta_y)\n",
    "    ax.set_xlabel(etiqueta_x)\n",
    "    ax.set_title(titulo)\n",
    "    ax.set_xticks(x)\n",
    "    ax.set_xticklabels(tabla['LLMs'])\n",
    "    ax.legend()\n",
    "    \n",
    "    # Guardar el gráfico\n",
    "    plt.tight_layout()\n",
    "    plt.savefig(nombre_archivo)\n",
    "    plt.close()\n",
    "\n",
    "# Etiquetas personalizables\n",
    "etiquetas = {\n",
    "    \"Factory\": {\n",
    "        \"titulo\": \"Gráfico de Éxito - Factory\",\n",
    "        \"etiqueta_x\": \"Modelos\",\n",
    "        \"etiqueta_y\": \"Porcentaje de Éxito (%)\",\n",
    "        \"nombre_archivo\": \"grafico_factory.png\"\n",
    "    },\n",
    "    \"Observer\": {\n",
    "        \"titulo\": \"Gráfico de Éxito - Observer\",\n",
    "        \"etiqueta_x\": \"Modelos\",\n",
    "        \"etiqueta_y\": \"Porcentaje de Éxito (%)\",\n",
    "        \"nombre_archivo\": \"grafico_observer.png\"\n",
    "    },\n",
    "    \"Strategy\": {\n",
    "        \"titulo\": \"Gráfico de Éxito - Strategy\",\n",
    "        \"etiqueta_x\": \"Modelos\",\n",
    "        \"etiqueta_y\": \"Porcentaje de Éxito (%)\",\n",
    "        \"nombre_archivo\": \"grafico_strategy.png\"\n",
    "    }\n",
    "}\n",
    "\n",
    "# Generar gráficos para cada tabla\n",
    "generar_grafico(factory_final, **etiquetas[\"Factory\"])\n",
    "generar_grafico(observer_final, **etiquetas[\"Observer\"])\n",
    "generar_grafico(strategy_final, **etiquetas[\"Strategy\"])\n",
    "\n",
    "print(\"Gráficos generados y guardados.\")\n",
    "# # Mostrar el gráfico\n",
    "# plt.show()"
   ]
  },
  {
   "cell_type": "code",
   "execution_count": null,
   "id": "56c079b2-a50c-446a-b680-6fa17c85d8fe",
   "metadata": {},
   "outputs": [],
   "source": []
  },
  {
   "cell_type": "markdown",
   "id": "ad998eb8-eb6e-4534-b9fe-7ae48cea45ee",
   "metadata": {},
   "source": [
    "## Tabla de la tasa de éxito del patrón observer"
   ]
  },
  {
   "cell_type": "code",
   "execution_count": null,
   "id": "727326c4-6bab-43fb-98de-124ecc9808a5",
   "metadata": {},
   "outputs": [],
   "source": []
  },
  {
   "cell_type": "markdown",
   "id": "81b4f01c-a479-4a8e-9dcc-836b45bca0c4",
   "metadata": {},
   "source": [
    "### Gráfico sobre LLMs y la aplicabilidad en el patrón observer"
   ]
  },
  {
   "cell_type": "code",
   "execution_count": null,
   "id": "5eec84ad-5c72-4e8e-a6ee-e2615d4c8e3a",
   "metadata": {},
   "outputs": [],
   "source": []
  },
  {
   "cell_type": "code",
   "execution_count": null,
   "id": "f26ffbcc-3917-4d75-9d79-0c8c2c18ad66",
   "metadata": {},
   "outputs": [],
   "source": []
  },
  {
   "cell_type": "markdown",
   "id": "43bd06c9-9bfd-46cf-8683-0e6bc306de8d",
   "metadata": {},
   "source": [
    "## Tabla de la tasa de éxito del patrón strategy"
   ]
  },
  {
   "cell_type": "code",
   "execution_count": null,
   "id": "79ab4511-0180-45ff-bede-5d6a4d75bc0e",
   "metadata": {},
   "outputs": [],
   "source": []
  },
  {
   "cell_type": "markdown",
   "id": "6a9cb937-edbb-453c-b916-7d189e05aa9e",
   "metadata": {},
   "source": [
    "### Gráfico sobre LLMs y la aplicabilidad en el patrón strategy"
   ]
  },
  {
   "cell_type": "code",
   "execution_count": null,
   "id": "5668b5e7-3bf2-4d33-9d19-cf16e815ddd8",
   "metadata": {},
   "outputs": [],
   "source": []
  },
  {
   "cell_type": "code",
   "execution_count": null,
   "id": "4a516481-cc79-400f-b9c8-b951923e7376",
   "metadata": {},
   "outputs": [],
   "source": []
  },
  {
   "cell_type": "markdown",
   "id": "c6c1c46a-4f16-4dc4-82e8-b9bc96b32290",
   "metadata": {},
   "source": [
    "## Resultados experimentales sobre la aplicabilidad en los patrones de diseño"
   ]
  },
  {
   "cell_type": "code",
   "execution_count": 1,
   "id": "33b4ecc3-db0b-457e-a6f2-2c820fba8075",
   "metadata": {},
   "outputs": [
    {
     "name": "stdout",
     "output_type": "stream",
     "text": [
      "           Patrón  Tasa de éxito  Desviación estándar (éxito)  IC Inferior  \\\n",
      "0  Factory Method       0.931631                     0.136344     0.902473   \n",
      "1        Observer       0.703728                     0.225462     0.651649   \n",
      "2        Strategy       0.844460                     0.172115     0.804703   \n",
      "\n",
      "   IC Superior  Barra de error  Tiempo de Respuesta  \\\n",
      "0     0.960788        0.029158            10.348810   \n",
      "1     0.755807        0.052079             9.948611   \n",
      "2     0.884217        0.039757             9.725000   \n",
      "\n",
      "   Desviación estándar (tiempo de respuesta)  \n",
      "0                                  18.865385  \n",
      "1                                  19.141077  \n",
      "2                                  15.266374  \n"
     ]
    }
   ],
   "source": [
    "import pandas as pd\n",
    "import numpy as np\n",
    "import matplotlib.pyplot as plt\n",
    "\n",
    "# 1. Función para procesar una tabla individual\n",
    "def procesar_tabla(df):\n",
    "    \"\"\"\n",
    "    Procesa una tabla individual para calcular estadísticas:\n",
    "    - Tasa de éxito promedio\n",
    "    - Desviación estándar del éxito\n",
    "    - Intervalo de confianza del 95%\n",
    "    - Tiempo de respuesta promedio\n",
    "    - Desviación estándar del tiempo de respuesta\n",
    "    \"\"\"\n",
    "    # Calcular estadísticas\n",
    "    tasa_exito = df[\"Porcentaje de éxito\"].mean()\n",
    "    desviacion_estandar = df[\"Porcentaje de éxito\"].std()\n",
    "    tiempo_respuesta = df[\"Tiempo de respuesta\"].mean()\n",
    "    desviacion_estandar_tiempo = df[\"Tiempo de respuesta\"].std()  # Nueva estadística\n",
    "\n",
    "    # Calcular intervalo de confianza del 95%\n",
    "    n = len(df)  # Número de observaciones\n",
    "    z = 1.96  # Valor para IC 95%\n",
    "    error_estandar = desviacion_estandar / np.sqrt(n)\n",
    "    ic_inferior = tasa_exito - z * error_estandar\n",
    "    ic_superior = tasa_exito + z * error_estandar\n",
    "\n",
    "    return {\n",
    "        \"Tasa de éxito\": tasa_exito,\n",
    "        \"Desviación estándar (éxito)\": desviacion_estandar,\n",
    "        \"IC Inferior\": ic_inferior,\n",
    "        \"IC Superior\": ic_superior,\n",
    "        \"Barra de error\": z * error_estandar,  # Longitud de la barra de error\n",
    "        \"Tiempo de Respuesta\": tiempo_respuesta,\n",
    "        \"Desviación estándar (tiempo de respuesta)\": desviacion_estandar_tiempo  # Nueva columna\n",
    "    }\n",
    "\n",
    "# 2. Cargar las tres hojas desde un archivo Excel\n",
    "file_path = \"resultados.xlsx\"  # Cambia esto por la ruta de tu archivo Excel\n",
    "\n",
    "# Leer cada hoja del archivo Excel\n",
    "factory_df = pd.read_excel(file_path, sheet_name=\"No_experimentos\")\n",
    "observer_df = pd.read_excel(file_path, sheet_name=\"No_experimentos-o\")\n",
    "strategy_df = pd.read_excel(file_path, sheet_name=\"No_experimentos-s\")\n",
    "\n",
    "# Convertir columnas numéricas a float\n",
    "for df in [factory_df, observer_df, strategy_df]:\n",
    "    df[\"Porcentaje de éxito\"] = df[\"Porcentaje de éxito\"].astype(float)\n",
    "    df[\"Tiempo de respuesta\"] = df[\"Tiempo de respuesta\"].fillna(0).astype(float)  # Rellenar NaN con 0\n",
    "\n",
    "# 3. Procesar cada tabla\n",
    "factory_stats = procesar_tabla(factory_df)\n",
    "observer_stats = procesar_tabla(observer_df)\n",
    "strategy_stats = procesar_tabla(strategy_df)\n",
    "\n",
    "# Crear una lista de diccionarios para los patrones\n",
    "patrones = [\n",
    "    {\"Patrón\": \"Factory Method\", **factory_stats},\n",
    "    {\"Patrón\": \"Observer\", **observer_stats},\n",
    "    {\"Patrón\": \"Strategy\", **strategy_stats}\n",
    "]\n",
    "\n",
    "# Convertir la lista de diccionarios en un DataFrame\n",
    "tabla_final_patrones = pd.DataFrame(patrones)  # Renombrada la variable\n",
    "\n",
    "# Reemplazar NaN con valores vacíos o 0 según corresponda\n",
    "tabla_final_patrones = tabla_final_patrones.fillna({\n",
    "    \"Tasa de éxito\": 0, \n",
    "    \"Desviación estándar (éxito)\": 0, \n",
    "    \"IC Inferior\": 0, \n",
    "    \"IC Superior\": 0, \n",
    "    \"Barra de error\": 0, \n",
    "    \"Tiempo de Respuesta\": 0,\n",
    "    \"Desviación estándar (tiempo)\": 0  # Manejar NaN para la nueva columna\n",
    "})\n",
    "\n",
    "# Exportar la tabla a Excel\n",
    "output_file = \"tabla_final_patrones_diseño_final.xlsx\"\n",
    "tabla_final_patrones.to_excel(output_file, index=False)  # Actualizada la variable aquí también\n",
    "\n",
    "print(tabla_final_patrones)  # Actualizada la variable aquí también"
   ]
  },
  {
   "cell_type": "markdown",
   "id": "658a822f-c7c1-4678-8625-d2417c683017",
   "metadata": {},
   "source": [
    "### Gráfico de barras para agrupar los patrones"
   ]
  },
  {
   "cell_type": "code",
   "execution_count": 2,
   "id": "44b6d781-1cc5-4d6b-931c-da1034c01cc6",
   "metadata": {},
   "outputs": [
    {
     "data": {
      "image/png": "[encoded data removed]",
      "text/plain": [
       "<Figure size 1000x600 with 1 Axes>"
      ]
     },
     "metadata": {},
     "output_type": "display_data"
    }
   ],
   "source": [
    "# Ordenar los datos por Tasa de éxito de menor a mayor\n",
    "tabla_final_sorted = tabla_final_patrones.sort_values(by=\"Tasa de éxito\", ascending=True)\n",
    "\n",
    "# Gráfico de barras con barras de error\n",
    "plt.figure(figsize=(10, 6))\n",
    "\n",
    "# Datos para el gráfico\n",
    "patrones_nombres = tabla_final_sorted[\"Patrón\"]\n",
    "tasa_exito = tabla_final_sorted[\"Tasa de éxito\"]\n",
    "error_bars = tabla_final_sorted[\"Barra de error\"]\n",
    "\n",
    "# Posiciones en el eje X\n",
    "x = np.arange(len(patrones_nombres))\n",
    "bar_width = 0.6\n",
    "\n",
    "plt.bar(x, tasa_exito, yerr=error_bars, capsize=5, color=\"skyblue\", edgecolor=\"black\", width=bar_width)\n",
    "\n",
    "# Personalizar el gráfico\n",
    "plt.title(\"Tasa de Éxito Promedio por Patrón de Diseño\", fontsize=16)\n",
    "plt.xlabel(\"Patrones de Diseño\", fontsize=14)\n",
    "plt.ylabel(\"Tasa de Éxito (%)\", fontsize=14)\n",
    "plt.xticks(x, patrones_nombres, rotation=45)  # Usar los nombres ordenados\n",
    "plt.ylim(0, 100)  # Límite superior del eje Y\n",
    "plt.grid(axis=\"y\", linestyle=\"--\", alpha=0.7)\n",
    "plt.tight_layout()\n",
    "\n",
    "# Mostrar el gráfico\n",
    "plt.show()"
   ]
  },
  {
   "cell_type": "code",
   "execution_count": null,
   "id": "8bc39714-819e-4805-97e4-e2d51afffed0",
   "metadata": {},
   "outputs": [],
   "source": []
  },
  {
   "cell_type": "markdown",
   "id": "8bf06985-bce6-4841-be3c-beff6391cbf5",
   "metadata": {},
   "source": [
    "## Gráfico de boxplot para el promedio de tiempo de respuesta"
   ]
  },
  {
   "cell_type": "code",
   "execution_count": 3,
   "id": "b48d34f8-8df6-4df0-a50f-9eb9b70dd7bc",
   "metadata": {},
   "outputs": [
    {
     "data": {
      "image/png": "[encoded data removed]",
      "text/plain": [
       "<Figure size 800x600 with 1 Axes>"
      ]
     },
     "metadata": {},
     "output_type": "display_data"
    }
   ],
   "source": [
    "import pandas as pd\n",
    "import numpy as np\n",
    "import matplotlib.pyplot as plt\n",
    "import seaborn as sns\n",
    "\n",
    "# 1. Cargar los datos desde el archivo Excel\n",
    "file_path = \"resultados.xlsx\"  # Cambia esto por la ruta de tu archivo Excel\n",
    "\n",
    "# Leer cada hoja correspondiente a los patrones\n",
    "# Leer cada hoja del archivo Excel\n",
    "patron_1 = pd.read_excel(file_path, sheet_name=\"No_experimentos\")\n",
    "patron_2 = pd.read_excel(file_path, sheet_name=\"No_experimentos-o\")\n",
    "patron_3 = pd.read_excel(file_path, sheet_name=\"No_experimentos-s\")\n",
    "\n",
    "# Añadir una columna para identificar el patrón\n",
    "patron_1['Patron'] = \"Factory Method\"\n",
    "patron_2['Patron'] = \"Observer\"\n",
    "patron_3['Patron'] = \"Strategy\"\n",
    "\n",
    "# Combinar todos los datos en una sola tabla\n",
    "tabla_completa = pd.concat([patron_1, patron_2, patron_3], ignore_index=True)\n",
    "\n",
    "# 2. Filtrar los datos para incluir solo los modelos Deepseek r1 y Gemini 2.0\n",
    "modelos_seleccionados = ['DeepSeek R1', 'Gemini 2.0']\n",
    "datos_filtrados = tabla_completa[tabla_completa['LLMs'].isin(modelos_seleccionados)]\n",
    "\n",
    "# 3. Crear la tabla final consolidada\n",
    "tabla_final = datos_filtrados.groupby(['LLMs', 'Patron']).agg({\n",
    "    'Tiempo de respuesta': ['mean', 'std'],  # Promedio y desviación estándar del tiempo\n",
    "}).reset_index()\n",
    "\n",
    "# Aplanar las columnas después del agrupamiento\n",
    "tabla_final.columns = ['LLMs', 'Patron', 'Tiempo_promedio', 'Tiempo_std']\n",
    "\n",
    "## No es necesario crear tabla porque ya está la anterior sobre los 3 patrones\n",
    "\n",
    "# 4. Crear el gráfico de boxplot\n",
    "plt.figure(figsize=(8, 6))\n",
    "\n",
    "# Boxplot con Tiempo de respuesta en el eje Y\n",
    "sns.boxplot(\n",
    "    x='LLMs',\n",
    "    y='Tiempo de respuesta',\n",
    "    hue='Patron',  # Separar por patrón dentro de cada modelo\n",
    "    data=datos_filtrados,\n",
    "    palette='Set2'\n",
    ")\n",
    "\n",
    "# Ajustar el eje Y para que vaya hasta 60 segundos\n",
    "plt.ylim(0, 50)  # Límites del eje Y: desde 0 hasta 60\n",
    "\n",
    "# Etiquetas y título\n",
    "plt.xlabel('Modelos de IA / LLMs', fontsize=12)\n",
    "plt.ylabel('Tiempo de respuesta (segundos)', fontsize=12)\n",
    "plt.title('Distribución del tiempo de respuesta por modelo y patrón', fontsize=14)\n",
    "\n",
    "# Ajustar leyenda\n",
    "plt.legend(title='Patrón', loc='upper right')\n",
    "\n",
    "# Mostrar el gráfico\n",
    "plt.tight_layout()\n",
    "plt.show()"
   ]
  },
  {
   "cell_type": "markdown",
   "id": "a3e48690-ac48-490e-9c44-55589c653b1e",
   "metadata": {},
   "source": [
    "## Para graficar boxplot con la desviación estándar del promedio de tiempo de respuesta"
   ]
  },
  {
   "cell_type": "code",
   "execution_count": null,
   "id": "f25e6038-4fe8-4d38-be43-49887b8d5d1a",
   "metadata": {},
   "outputs": [],
   "source": []
  }
 ],
 "metadata": {
  "kernelspec": {
   "display_name": "Python 3 (ipykernel)",
   "language": "python",
   "name": "python3"
  },
  "language_info": {
   "codemirror_mode": {
    "name": "ipython",
    "version": 3
   },
   "file_extension": ".py",
   "mimetype": "text/x-python",
   "name": "python",
   "nbconvert_exporter": "python",
   "pygments_lexer": "ipython3",
   "version": "3.12.10"
  }
 },
 "nbformat": 4,
 "nbformat_minor": 5
}
